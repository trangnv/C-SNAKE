{
 "cells": [
  {
   "cell_type": "code",
   "execution_count": 104,
   "metadata": {},
   "outputs": [],
   "source": [
    "cipher_text = \"\"\"lrvmnir bpr sumvbwvr jx bpr lmiwv yjeryrkbi jx qmbm wi \\\n",
    "bpr xjvni mkd ymibrut jx irhx wi bpr riirkvr jx \\\n",
    "ymbinlmtmipw utn qmumbr dj w ipmhh but bj rhnvwdmbr bpr \\\n",
    "yjeryrkbi jx bpr qmbm mvvjudwko bj yt wkbrusurbmbwjk \\\n",
    "lmird jk xjubt trmui jx ibndt \\\n",
    "wb wi kjb mk rmit bmiq bj rashmwk rmvp yjeryrkb mkd wbi \\\n",
    "iwokwxwvmkvr mkd ijyr ynib urymwk nkrashmwkrd bj ower m \\\n",
    "vjyshrbr rashmkmbwjk jkr cjnhd pmer bj lr fnmhwxwrd mkd \\\n",
    "wkiswurd bj invp mk rabrkb bpmb pr vjnhd urmvp bpr ibmbr \\\n",
    "jx rkhwopbrkrd ywkd vmsmlhr jx urvjokwgwko ijnkdhrii \\\n",
    "ijnkd mkd ipmsrhrii ipmsr w dj kjb drry ytirhx bpr xwkmh \\\n",
    "mnbpjuwbt lnb yt rasruwrkvr cwbp qmbm pmi hrxb kj djnlb \\\n",
    "bpmb bpr xjhhjcwko wi bpr sujsru msshwvmbwjk mkd \\\n",
    "wkbrusurbmbwjk w jxxru yt bprjuwri wk bpr pjsr bpmb bpr \\\n",
    "riirkvr jx jqwkmcmk qmumbr cwhh urymwk wkbmvb\"\"\""
   ]
  },
  {
   "cell_type": "code",
   "execution_count": 105,
   "metadata": {},
   "outputs": [
    {
     "name": "stdout",
     "output_type": "stream",
     "text": [
      "Letter  Count\n",
      "     a      5\n",
      "     b     68\n",
      "     c      5\n",
      "     d     23\n",
      "     e      5\n",
      "     f      1\n",
      "     g      1\n",
      "     h     23\n",
      "     i     41\n",
      "     j     48\n",
      "     k     49\n",
      "     l      8\n",
      "     m     62\n",
      "     n     17\n",
      "     o      7\n",
      "     p     30\n",
      "     q      7\n",
      "     r     84\n",
      "     s     17\n",
      "     t     13\n",
      "     u     24\n",
      "     v     22\n",
      "     w     47\n",
      "     x     20\n",
      "     y     19\n",
      "     z      0\n"
     ]
    }
   ],
   "source": [
    "import string\n",
    "import pandas as pd\n",
    "data = []\n",
    "lowercase_letters = list(string.ascii_lowercase)\n",
    "for letter in lowercase_letters:\n",
    "    count = cipher_text.count(letter)\n",
    "    data.append({'Letter': letter, 'Count': count})\n",
    "\n",
    "df = pd.DataFrame(data)\n",
    "print(df.to_string(index=False))"
   ]
  },
  {
   "cell_type": "code",
   "execution_count": 106,
   "metadata": {},
   "outputs": [
    {
     "name": "stdout",
     "output_type": "stream",
     "text": [
      "Letter  Count\n",
      "     r     84\n",
      "     b     68\n",
      "     m     62\n",
      "     k     49\n",
      "     j     48\n",
      "     w     47\n",
      "     i     41\n",
      "     p     30\n",
      "     u     24\n",
      "     d     23\n",
      "     h     23\n",
      "     v     22\n",
      "     x     20\n",
      "     y     19\n",
      "     s     17\n",
      "     n     17\n",
      "     t     13\n",
      "     l      8\n",
      "     q      7\n",
      "     o      7\n",
      "     a      5\n",
      "     e      5\n",
      "     c      5\n",
      "     g      1\n",
      "     f      1\n",
      "     z      0\n"
     ]
    }
   ],
   "source": [
    "print(df.sort_values('Count', ascending=False).to_string(index=False))"
   ]
  },
  {
   "attachments": {},
   "cell_type": "markdown",
   "metadata": {},
   "source": [
    "relative letter frequency of the English language\n",
    "\n",
    "![letter frequency](letter_frequency.png \"Title\")"
   ]
  },
  {
   "attachments": {},
   "cell_type": "markdown",
   "metadata": {},
   "source": [
    "https://www.cryptool.org/en/cto/frequency-analysis is very helpful for this task"
   ]
  },
  {
   "attachments": {},
   "cell_type": "markdown",
   "metadata": {},
   "source": [
    "`bp` should be `th` and `r` should be `e` given the frequency of `e` in the English language and the ciphertext has lot of `bpr`\n"
   ]
  },
  {
   "cell_type": "code",
   "execution_count": 107,
   "metadata": {},
   "outputs": [
    {
     "data": {
      "text/plain": [
       "'lEvmniE THE sumvTwvE jx THE lmiwv yjeEyEkTi jx qmTm wi THE xjvni mkd ymiTEut jx iEhx wi THE EiiEkvE jx ymTinlmtmiHw utn qmumTE dj w iHmhh Tut Tj EhnvwdmTE THE yjeEyEkTi jx THE qmTm mvvjudwko Tj yt wkTEusuETmTwjk lmiEd jk xjuTt tEmui jx iTndt wT wi kjT mk Emit Tmiq Tj Eashmwk EmvH yjeEyEkT mkd wTi iwokwxwvmkvE mkd ijyE yniT uEymwk nkEashmwkEd Tj oweE m vjyshETE EashmkmTwjk jkE cjnhd HmeE Tj lE fnmhwxwEd mkd wkiswuEd Tj invH mk EaTEkT THmT HE vjnhd uEmvH THE iTmTE jx EkhwoHTEkEd ywkd vmsmlhE jx uEvjokwgwko ijnkdhEii ijnkd mkd iHmsEhEii iHmsE w dj kjT dEEy ytiEhx THE xwkmh mnTHjuwTt lnT yt EasEuwEkvE cwTH qmTm Hmi hExT kj djnlT THmT THE xjhhjcwko wi THE sujsEu msshwvmTwjk mkd wkTEusuETmTwjk w jxxEu yt THEjuwEi wk THE HjsE THmT THE EiiEkvE jx jqwkmcmk qmumTE cwhh uEymwk wkTmvT'"
      ]
     },
     "execution_count": 107,
     "metadata": {},
     "output_type": "execute_result"
    }
   ],
   "source": [
    "message = cipher_text\n",
    "# 2 most frequent letters are 'r' and 'b'\n",
    "# `bp` is the most frequent bigram\n",
    "\n",
    "old_letters = ['b','p', 'r']\n",
    "new_letters = ['T','H', 'E']\n",
    "\n",
    "for old_letter, new_letter in zip(old_letters, new_letters):\n",
    "    message = message.replace(old_letter, new_letter)\n",
    "\n",
    "message"
   ]
  },
  {
   "attachments": {},
   "cell_type": "markdown",
   "metadata": {},
   "source": [
    "- Try `jx` as `of` as it appears in the ciphertext by itself\n",
    "- `tj` looks like `to` as well\n",
    "\n"
   ]
  },
  {
   "cell_type": "code",
   "execution_count": 108,
   "metadata": {},
   "outputs": [
    {
     "data": {
      "text/plain": [
       "'lEvmniE THE sumvTIvE OF THE lmiIv yOeEyEkTi OF qmTm Ii THE FOvni mkd ymiTEut OF iEhF Ii THE EiiEkvE OF ymTinlmtmiHI utn qmumTE dO I iHmhh Tut TO EhnvIdmTE THE yOeEyEkTi OF THE qmTm mvvOudIko TO yt IkTEusuETmTIOk lmiEd Ok FOuTt tEmui OF iTndt IT Ii kOT mk Emit Tmiq TO EashmIk EmvH yOeEyEkT mkd ITi iIokIFIvmkvE mkd iOyE yniT uEymIk nkEashmIkEd TO oIeE m vOyshETE EashmkmTIOk OkE cOnhd HmeE TO lE fnmhIFIEd mkd IkisIuEd TO invH mk EaTEkT THmT HE vOnhd uEmvH THE iTmTE OF EkhIoHTEkEd yIkd vmsmlhE OF uEvOokIgIko iOnkdhEii iOnkd mkd iHmsEhEii iHmsE I dO kOT dEEy ytiEhF THE FIkmh mnTHOuITt lnT yt EasEuIEkvE cITH qmTm Hmi hEFT kO dOnlT THmT THE FOhhOcIko Ii THE suOsEu msshIvmTIOk mkd IkTEusuETmTIOk I OFFEu yt THEOuIEi Ik THE HOsE THmT THE EiiEkvE OF OqIkmcmk qmumTE cIhh uEymIk IkTmvT'"
      ]
     },
     "execution_count": 108,
     "metadata": {},
     "output_type": "execute_result"
    }
   ],
   "source": [
    "message = cipher_text\n",
    "# 2 most frequent letters are 'r' and 'b'\n",
    "old_letters = ['b','p', 'r','j','x','w']\n",
    "new_letters = ['T','H', 'E','O','F','I']\n",
    "\n",
    "for old_letter, new_letter in zip(old_letters, new_letters):\n",
    "    message = message.replace(old_letter, new_letter)\n",
    "\n",
    "message"
   ]
  },
  {
   "attachments": {},
   "cell_type": "markdown",
   "metadata": {},
   "source": [
    "try `m` => `a` following th frequency rule"
   ]
  },
  {
   "cell_type": "code",
   "execution_count": 109,
   "metadata": {},
   "outputs": [
    {
     "data": {
      "text/plain": [
       "'lEvAniE THE suAvTwvE OF THE lAiwv yOeEyEkTi OF qATA wi THE FOvni Akd yAiTEut OF iEhF wi THE EiiEkvE OF yATinlAtAiHw utn qAuATE dO w iHAhh Tut TO EhnvwdATE THE yOeEyEkTi OF THE qATA AvvOudwko TO yt wkTEusuETATwOk lAiEd Ok FOuTt tEAui OF iTndt wT wi kOT Ak EAit TAiq TO EashAwk EAvH yOeEyEkT Akd wTi iwokwFwvAkvE Akd iOyE yniT uEyAwk nkEashAwkEd TO oweE A vOyshETE EashAkATwOk OkE cOnhd HAeE TO lE fnAhwFwEd Akd wkiswuEd TO invH Ak EaTEkT THAT HE vOnhd uEAvH THE iTATE OF EkhwoHTEkEd ywkd vAsAlhE OF uEvOokwgwko iOnkdhEii iOnkd Akd iHAsEhEii iHAsE w dO kOT dEEy ytiEhF THE FwkAh AnTHOuwTt lnT yt EasEuwEkvE cwTH qATA HAi hEFT kO dOnlT THAT THE FOhhOcwko wi THE suOsEu AsshwvATwOk Akd wkTEusuETATwOk w OFFEu yt THEOuwEi wk THE HOsE THAT THE EiiEkvE OF OqwkAcAk qAuATE cwhh uEyAwk wkTAvT'"
      ]
     },
     "execution_count": 109,
     "metadata": {},
     "output_type": "execute_result"
    }
   ],
   "source": [
    "message = cipher_text\n",
    "old_letters = ['b','p', 'r','j','x','m']\n",
    "new_letters = ['T','H', 'E','O','F','A']\n",
    "\n",
    "for old_letter, new_letter in zip(old_letters, new_letters):\n",
    "    message = message.replace(old_letter, new_letter)\n",
    "\n",
    "message"
   ]
  },
  {
   "attachments": {},
   "cell_type": "markdown",
   "metadata": {},
   "source": [
    "`iTATE` => `STATE`"
   ]
  },
  {
   "cell_type": "code",
   "execution_count": 111,
   "metadata": {},
   "outputs": [
    {
     "data": {
      "text/plain": [
       "'lEvAnSE THE suAvTwvE OF THE lASwv yOeEyEkTS OF qATA wS THE FOvnS Akd yASTEut OF SEhF wS THE ESSEkvE OF yATSnlAtASHw utn qAuATE dO w SHAhh Tut TO EhnvwdATE THE yOeEyEkTS OF THE qATA AvvOudwko TO yt wkTEusuETATwOk lASEd Ok FOuTt tEAuS OF STndt wT wS kOT Ak EASt TASq TO EashAwk EAvH yOeEyEkT Akd wTS SwokwFwvAkvE Akd SOyE ynST uEyAwk nkEashAwkEd TO oweE A vOyshETE EashAkATwOk OkE cOnhd HAeE TO lE fnAhwFwEd Akd wkSswuEd TO SnvH Ak EaTEkT THAT HE vOnhd uEAvH THE STATE OF EkhwoHTEkEd ywkd vAsAlhE OF uEvOokwgwko SOnkdhESS SOnkd Akd SHAsEhESS SHAsE w dO kOT dEEy ytSEhF THE FwkAh AnTHOuwTt lnT yt EasEuwEkvE cwTH qATA HAS hEFT kO dOnlT THAT THE FOhhOcwko wS THE suOsEu AsshwvATwOk Akd wkTEusuETATwOk w OFFEu yt THEOuwES wk THE HOsE THAT THE ESSEkvE OF OqwkAcAk qAuATE cwhh uEyAwk wkTAvT'"
      ]
     },
     "execution_count": 111,
     "metadata": {},
     "output_type": "execute_result"
    }
   ],
   "source": [
    "message = cipher_text\n",
    "old_letters = ['b','p', 'r','j','x','m', 'i']\n",
    "new_letters = ['T','H', 'E','O','F','A', 'S']\n",
    "\n",
    "for old_letter, new_letter in zip(old_letters, new_letters):\n",
    "    message = message.replace(old_letter, new_letter)\n",
    "\n",
    "message"
   ]
  },
  {
   "attachments": {},
   "cell_type": "markdown",
   "metadata": {},
   "source": [
    "`ESSEkvE` => `ESSENCE`???"
   ]
  },
  {
   "cell_type": "code",
   "execution_count": 112,
   "metadata": {},
   "outputs": [
    {
     "data": {
      "text/plain": [
       "'lECAnSE THE suACTwCE OF THE lASwC yOeEyENTS OF qATA wS THE FOCnS ANd yASTEut OF SEhF wS THE ESSENCE OF yATSnlAtASHw utn qAuATE dO w SHAhh Tut TO EhnCwdATE THE yOeEyENTS OF THE qATA ACCOudwNo TO yt wNTEusuETATwON lASEd ON FOuTt tEAuS OF STndt wT wS NOT AN EASt TASq TO EashAwN EACH yOeEyENT ANd wTS SwoNwFwCANCE ANd SOyE ynST uEyAwN nNEashAwNEd TO oweE A COyshETE EashANATwON ONE cOnhd HAeE TO lE fnAhwFwEd ANd wNSswuEd TO SnCH AN EaTENT THAT HE COnhd uEACH THE STATE OF ENhwoHTENEd ywNd CAsAlhE OF uECOoNwgwNo SOnNdhESS SOnNd ANd SHAsEhESS SHAsE w dO NOT dEEy ytSEhF THE FwNAh AnTHOuwTt lnT yt EasEuwENCE cwTH qATA HAS hEFT NO dOnlT THAT THE FOhhOcwNo wS THE suOsEu AsshwCATwON ANd wNTEusuETATwON w OFFEu yt THEOuwES wN THE HOsE THAT THE ESSENCE OF OqwNAcAN qAuATE cwhh uEyAwN wNTACT'"
      ]
     },
     "execution_count": 112,
     "metadata": {},
     "output_type": "execute_result"
    }
   ],
   "source": [
    "message = cipher_text\n",
    "old_letters = ['b','p', 'r','j','x','m', 'i', 'k', 'v']\n",
    "new_letters = ['T','H', 'E','O','F','A', 'S', 'N', 'C']\n",
    "\n",
    "for old_letter, new_letter in zip(old_letters, new_letters):\n",
    "    message = message.replace(old_letter, new_letter)\n",
    "\n",
    "message"
   ]
  },
  {
   "attachments": {},
   "cell_type": "markdown",
   "metadata": {},
   "source": [
    "`hEFT` => `LEFT`???"
   ]
  },
  {
   "cell_type": "code",
   "execution_count": 113,
   "metadata": {},
   "outputs": [
    {
     "data": {
      "text/plain": [
       "'lECAnSE THE suACTwCE OF THE lASwC yOeEyENTS OF qATA wS THE FOCnS ANd yASTEut OF SELF wS THE ESSENCE OF yATSnlAtASHw utn qAuATE dO w SHALL Tut TO ELnCwdATE THE yOeEyENTS OF THE qATA ACCOudwNo TO yt wNTEusuETATwON lASEd ON FOuTt tEAuS OF STndt wT wS NOT AN EASt TASq TO EasLAwN EACH yOeEyENT ANd wTS SwoNwFwCANCE ANd SOyE ynST uEyAwN nNEasLAwNEd TO oweE A COysLETE EasLANATwON ONE cOnLd HAeE TO lE fnALwFwEd ANd wNSswuEd TO SnCH AN EaTENT THAT HE COnLd uEACH THE STATE OF ENLwoHTENEd ywNd CAsAlLE OF uECOoNwgwNo SOnNdLESS SOnNd ANd SHAsELESS SHAsE w dO NOT dEEy ytSELF THE FwNAL AnTHOuwTt lnT yt EasEuwENCE cwTH qATA HAS LEFT NO dOnlT THAT THE FOLLOcwNo wS THE suOsEu AssLwCATwON ANd wNTEusuETATwON w OFFEu yt THEOuwES wN THE HOsE THAT THE ESSENCE OF OqwNAcAN qAuATE cwLL uEyAwN wNTACT'"
      ]
     },
     "execution_count": 113,
     "metadata": {},
     "output_type": "execute_result"
    }
   ],
   "source": [
    "message = cipher_text\n",
    "old_letters = ['b','p', 'r','j','x','m', 'i', 'k', 'v','h']\n",
    "new_letters = ['T','H', 'E','O','F','A', 'S', 'N', 'C', 'L']\n",
    "\n",
    "for old_letter, new_letter in zip(old_letters, new_letters):\n",
    "    message = message.replace(old_letter, new_letter)\n",
    "\n",
    "message"
   ]
  },
  {
   "attachments": {},
   "cell_type": "markdown",
   "metadata": {},
   "source": [
    "`wS THE FOCnS ANd` => `IS THE FOCUS AND`???"
   ]
  },
  {
   "cell_type": "code",
   "execution_count": 114,
   "metadata": {},
   "outputs": [
    {
     "data": {
      "text/plain": [
       "'lECAUSE THE suACTICE OF THE lASIC yOeEyENTS OF qATA IS THE FOCUS AND yASTEut OF SELF IS THE ESSENCE OF yATSUlAtASHI utU qAuATE DO I SHALL Tut TO ELUCIDATE THE yOeEyENTS OF THE qATA ACCOuDINo TO yt INTEusuETATION lASED ON FOuTt tEAuS OF STUDt IT IS NOT AN EASt TASq TO EasLAIN EACH yOeEyENT AND ITS SIoNIFICANCE AND SOyE yUST uEyAIN UNEasLAINED TO oIeE A COysLETE EasLANATION ONE cOULD HAeE TO lE fUALIFIED AND INSsIuED TO SUCH AN EaTENT THAT HE COULD uEACH THE STATE OF ENLIoHTENED yIND CAsAlLE OF uECOoNIgINo SOUNDLESS SOUND AND SHAsELESS SHAsE I DO NOT DEEy ytSELF THE FINAL AUTHOuITt lUT yt EasEuIENCE cITH qATA HAS LEFT NO DOUlT THAT THE FOLLOcINo IS THE suOsEu AssLICATION AND INTEusuETATION I OFFEu yt THEOuIES IN THE HOsE THAT THE ESSENCE OF OqINAcAN qAuATE cILL uEyAIN INTACT'"
      ]
     },
     "execution_count": 114,
     "metadata": {},
     "output_type": "execute_result"
    }
   ],
   "source": [
    "message = cipher_text\n",
    "old_letters = ['b','p', 'r','j','x','m', 'i', 'k', 'v','h', 'w', 'n', 'd']\n",
    "new_letters = ['T','H', 'E','O','F','A', 'S', 'N', 'C', 'L', 'I', 'U', 'D']\n",
    "\n",
    "for old_letter, new_letter in zip(old_letters, new_letters):\n",
    "    message = message.replace(old_letter, new_letter)\n",
    "\n",
    "message"
   ]
  },
  {
   "cell_type": "code",
   "execution_count": 123,
   "metadata": {},
   "outputs": [
    {
     "data": {
      "text/plain": [
       "'BECAUSE THE PRACTICE OF THE BASIC MOVEMENTS OF KATA IS THE FOCUS AND MASTERY OF SELF IS THE ESSENCE OF MATSUBAYASHI RYU KARATE DO I SHALL TRY TO ELUCIDATE THE MOVEMENTS OF THE KATA ACCORDING TO MY INTERPRETATION BASED ON FORTY YEARS OF STUDY IT IS NOT AN EASY TASK TO EXPLAIN EACH MOVEMENT AND ITS SIGNIFICANCE AND SOME MUST REMAIN UNEXPLAINED TO GIVE A COMPLETE EXPLANATION ONE WOULD HAVE TO BE fUALIFIED AND INSPIRED TO SUCH AN EXTENT THAT HE COULD REACH THE STATE OF ENLIGHTENED MIND CAPABLE OF RECOGNIZING SOUNDLESS SOUND AND SHAPELESS SHAPE I DO NOT DEEM MYSELF THE FINAL AUTHORITY BUT MY EXPERIENCE WITH KATA HAS LEFT NO DOUBT THAT THE FOLLOWING IS THE PROPER APPLICATION AND INTERPRETATION I OFFER MY THEORIES IN THE HOPE THAT THE ESSENCE OF OKINAWAN KARATE WILL REMAIN INTACT'"
      ]
     },
     "execution_count": 123,
     "metadata": {},
     "output_type": "execute_result"
    }
   ],
   "source": [
    "message = cipher_text\n",
    "old_letters = ['b','p', 'r','j','x','m', 'i', 'k', 'v','h', 'w', 'n', 'd', 'l', 'q', 'y', 't', 'e', 'u', 's', 'a', 'o', 'c', 'g', 'f']\n",
    "new_letters = ['T','H', 'E','O','F','A', 'S', 'N', 'C', 'L', 'I', 'U', 'D', 'B', 'K', 'M', 'Y', 'V', 'R', 'P', 'X', 'G', 'W', 'Z', '']\n",
    "\n",
    "for old_letter, new_letter in zip(old_letters, new_letters):\n",
    "    message = message.replace(old_letter, new_letter)\n",
    "\n",
    "message"
   ]
  }
 ],
 "metadata": {
  "kernelspec": {
   "display_name": "gm",
   "language": "python",
   "name": "python3"
  },
  "language_info": {
   "codemirror_mode": {
    "name": "ipython",
    "version": 3
   },
   "file_extension": ".py",
   "mimetype": "text/x-python",
   "name": "python",
   "nbconvert_exporter": "python",
   "pygments_lexer": "ipython3",
   "version": "3.10.11"
  },
  "orig_nbformat": 4
 },
 "nbformat": 4,
 "nbformat_minor": 2
}
